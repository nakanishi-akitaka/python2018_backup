{
 "cells": [
  {
   "cell_type": "code",
   "execution_count": 2,
   "metadata": {},
   "outputs": [
    {
     "name": "stdout",
     "output_type": "stream",
     "text": [
      "0    1.0\n",
      "1    3.0\n",
      "2    5.0\n",
      "3    NaN\n",
      "4    6.0\n",
      "5    8.0\n",
      "dtype: float64\n",
      "DatetimeIndex(['2013-01-01', '2013-01-02', '2013-01-03', '2013-01-04',\n",
      "               '2013-01-05', '2013-01-06'],\n",
      "              dtype='datetime64[ns]', freq='D')\n"
     ]
    }
   ],
   "source": [
    "# -*- coding: utf-8 -*-\n",
    "\"\"\"\n",
    "Created on Wed Jun 27 11:03:07 2018\n",
    "\n",
    "@author: Akitaka\n",
    "\"\"\"\n",
    "# https://pythondatascience.plavox.info/pandas/pandasでデータフレームを作ってみよう\n",
    "import numpy as np\n",
    "import pandas as pd\n",
    "\n",
    "'''\n",
    "Series (1 次元の値のリスト) を作成する\n",
    "pd.Series() を用いて、1 次元のリスト (Series, シリーズと呼ばれます) を作成します。\n",
    "'''\n",
    "# 数値で構成される Series を作成\n",
    "s = pd.Series([1,3,5,np.nan,6,8])\n",
    "print(s)\n",
    "\n",
    "# 日付の Series を作成\n",
    "dates = pd.date_range('20130101', periods=6)\n",
    "print(dates)\n"
   ]
  },
  {
   "cell_type": "code",
   "execution_count": 3,
   "metadata": {},
   "outputs": [
    {
     "name": "stdout",
     "output_type": "stream",
     "text": [
      "     A          B    C  D      E    F\n",
      "0  1.0 2013-01-02  1.0  3   test  foo\n",
      "1  1.0 2013-01-02  1.0  3  train  foo\n",
      "2  1.0 2013-01-02  1.0  3   test  foo\n",
      "3  1.0 2013-01-02  1.0  3  train  foo\n"
     ]
    }
   ],
   "source": [
    "'''\n",
    "データフレームを作成する\n",
    "それでは、データフレームを作成してみましょう。本例では、A～Fの各列に数値、文字列、日付、Numpy の行列などを格納します。\n",
    "'''\n",
    "df = pd.DataFrame({ 'A' : 1.,\n",
    "                        'B' : pd.Timestamp('20130102'),\n",
    "                        'C' : pd.Series(1,index=list(range(4)),dtype='float32'),\n",
    "                        'D' : np.array([3] * 4,dtype='int32'),\n",
    "                        'E' : pd.Categorical([\"test\",\"train\",\"test\",\"train\"]),\n",
    "                        'F' : 'foo' })\n",
    "print(df)\n"
   ]
  },
  {
   "cell_type": "code",
   "execution_count": 4,
   "metadata": {},
   "outputs": [
    {
     "name": "stdout",
     "output_type": "stream",
     "text": [
      "[[ 1.26590381  0.59159667  1.02701787 -1.52678619]\n",
      " [ 0.08575491 -0.53230876 -0.36857721 -0.21313114]\n",
      " [-0.99801369 -0.66634755  0.18160201 -0.30093307]\n",
      " [-0.78563869 -0.21854767  0.94111263  1.15333341]\n",
      " [-0.25010983  0.16883077 -0.76286458  1.53372015]\n",
      " [-0.71277759 -1.26265526  1.37286267 -1.45634474]]\n",
      "          A         B         C         D\n",
      "0  1.265904  0.591597  1.027018 -1.526786\n",
      "1  0.085755 -0.532309 -0.368577 -0.213131\n",
      "2 -0.998014 -0.666348  0.181602 -0.300933\n",
      "3 -0.785639 -0.218548  0.941113  1.153333\n",
      "4 -0.250110  0.168831 -0.762865  1.533720\n",
      "5 -0.712778 -1.262655  1.372863 -1.456345\n"
     ]
    }
   ],
   "source": [
    "'''\n",
    "Numpy の 行列からデータフレームを作成する\n",
    "Numpy で作成した行列をデータフレームに変換することもできます。\n",
    "本例では、 6 x 4 の 2 次元の行列からデータフレームを作成し、\n",
    "各列に A, B, C, D という名前を付与します。\n",
    "'''\n",
    "matrix = np.random.randn(6,4)\n",
    "print(matrix)\n",
    "\n",
    "df2 = pd.DataFrame(matrix, columns=list('ABCD'))\n",
    "print(df2)\n",
    "\n"
   ]
  },
  {
   "cell_type": "code",
   "execution_count": 6,
   "metadata": {},
   "outputs": [
    {
     "name": "stdout",
     "output_type": "stream",
     "text": [
      "{'A': [1, 2, 3, 4, 5], 'B': array([0.94841994, 0.98067704, 0.69388111, 0.14448787, 0.51587574]), 'C': ['apple', 'banana', 'strawberry', 'peach', 'orange']}\n",
      "   A         B           C\n",
      "0  1  0.948420       apple\n",
      "1  2  0.980677      banana\n",
      "2  3  0.693881  strawberry\n",
      "3  4  0.144488       peach\n",
      "4  5  0.515876      orange\n"
     ]
    }
   ],
   "source": [
    "'''\n",
    "ディクショナリからデータフレームを作成する\n",
    "Python のディクショナリ (Python 以外のプログラミング言語では\n",
    "ハッシュまたは連想配列とも呼ばれます) から\n",
    "データフレームを作成には、from_dict() メソッドを利用します。\n",
    "'''\n",
    "import pandas as pd\n",
    "import numpy as np\n",
    "a_values = [1, 2, 3, 4, 5]\n",
    "b_values = np.random.rand(5)\n",
    "c_values = [\"apple\", \"banana\", \"strawberry\", \"peach\", \"orange\"]\n",
    "my_dict = {\"A\": a_values, \"B\": b_values, \"C\":c_values}\n",
    "print(my_dict)\n",
    "\n",
    "my_df = pd.DataFrame.from_dict(my_dict)\n",
    "print(my_df)"
   ]
  },
  {
   "cell_type": "code",
   "execution_count": null,
   "metadata": {},
   "outputs": [],
   "source": []
  }
 ],
 "metadata": {
  "kernelspec": {
   "display_name": "Python 3",
   "language": "python",
   "name": "python3"
  },
  "language_info": {
   "codemirror_mode": {
    "name": "ipython",
    "version": 3
   },
   "file_extension": ".py",
   "mimetype": "text/x-python",
   "name": "python",
   "nbconvert_exporter": "python",
   "pygments_lexer": "ipython3",
   "version": "3.6.5"
  }
 },
 "nbformat": 4,
 "nbformat_minor": 2
}

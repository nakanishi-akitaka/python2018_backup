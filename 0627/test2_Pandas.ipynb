{
 "cells": [
  {
   "cell_type": "code",
   "execution_count": 5,
   "metadata": {},
   "outputs": [
    {
     "name": "stdout",
     "output_type": "stream",
     "text": [
      "          A         B         C         D\n",
      "0 -0.425507  1.776502  2.542861 -0.690766\n",
      "1 -0.164029 -1.235719  1.039736 -0.121903\n",
      "2 -1.961433 -1.171242 -0.550290  0.412306\n",
      "3  0.926893  1.372101  0.356638 -0.376598\n",
      "4  0.186686 -0.229953 -1.858406  0.628085\n",
      "5  0.793675  0.185247  0.219933  0.625902\n",
      "          A         B         C         D\n",
      "0 -0.425507  1.776502  2.542861 -0.690766\n",
      "1 -0.164029 -1.235719  1.039736 -0.121903\n",
      "2 -1.961433 -1.171242 -0.550290  0.412306\n",
      "          A         B         C         D\n",
      "0 -0.425507  1.776502  2.542861 -0.690766\n",
      "1 -0.164029 -1.235719  1.039736 -0.121903\n",
      "2 -1.961433 -1.171242 -0.550290  0.412306\n",
      "3  0.926893  1.372101  0.356638 -0.376598\n",
      "4  0.186686 -0.229953 -1.858406  0.628085\n",
      "          A         B         C         D\n",
      "4  0.186686 -0.229953 -1.858406  0.628085\n",
      "5  0.793675  0.185247  0.219933  0.625902\n",
      "          A         B         C         D\n",
      "1 -0.164029 -1.235719  1.039736 -0.121903\n",
      "2 -1.961433 -1.171242 -0.550290  0.412306\n",
      "3  0.926893  1.372101  0.356638 -0.376598\n",
      "4  0.186686 -0.229953 -1.858406  0.628085\n",
      "5  0.793675  0.185247  0.219933  0.625902\n"
     ]
    }
   ],
   "source": [
    "# https://pythondatascience.plavox.info/pandas/データフレームを確認\n",
    "'''\n",
    "先頭 N 行を表示する\n",
    "head([表示する行数]) メソッドでデータフレームの先頭 N 行を切り出すことができます。\n",
    "'''\n",
    "import pandas as pd\n",
    "import numpy as np\n",
    "df = pd.DataFrame(np.random.randn(6,4), columns=list('ABCD'))\n",
    "print(df)\n",
    "\n",
    "#　先頭3行を抽出\n",
    "print(df.head(3))\n",
    "\n",
    "# 行数を省略した場合は、千頭5行が抽出されます\n",
    "print(df.head())\n",
    "\n",
    "'''\n",
    "末尾 N 行を表示する\n",
    "tail([表示する行数]) メソッドでデータフレームの末尾 N 行を切り出すことができます。\n",
    "'''\n",
    "# 末尾 2 行を抽出\n",
    "print(df.tail(2))\n",
    "\n",
    "# 行数を省略した場合は、末尾 5 行が抽出されます。\n",
    "print(df.tail())"
   ]
  },
  {
   "cell_type": "code",
   "execution_count": null,
   "metadata": {},
   "outputs": [],
   "source": []
  }
 ],
 "metadata": {
  "kernelspec": {
   "display_name": "Python 3",
   "language": "python",
   "name": "python3"
  },
  "language_info": {
   "codemirror_mode": {
    "name": "ipython",
    "version": 3
   },
   "file_extension": ".py",
   "mimetype": "text/x-python",
   "name": "python",
   "nbconvert_exporter": "python",
   "pygments_lexer": "ipython3",
   "version": "3.6.5"
  }
 },
 "nbformat": 4,
 "nbformat_minor": 2
}

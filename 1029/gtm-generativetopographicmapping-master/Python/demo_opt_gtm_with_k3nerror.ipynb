{
 "cells": [
  {
   "cell_type": "markdown",
   "metadata": {},
   "source": [
    "## Demonstration of optimization of GTM hyperparameters with k3nerror\n",
    "# Hiromasa Kaneko"
   ]
  },
  {
   "cell_type": "code",
   "execution_count": null,
   "metadata": {
    "collapsed": true
   },
   "outputs": [],
   "source": [
    "import matplotlib.figure as figure\n",
    "import matplotlib.pyplot as plt\n",
    "import numpy as np\n",
    "from sklearn.datasets import load_iris\n",
    "\n",
    "from gtm import gtm\n",
    "from k3nerror import k3nerror"
   ]
  },
  {
   "cell_type": "code",
   "execution_count": null,
   "metadata": {
    "collapsed": true
   },
   "outputs": [],
   "source": [
    "# settings\n",
    "candidates_of_shape_of_map = np.arange(30, 31, dtype=int)\n",
    "candidates_of_shape_of_rbf_centers = np.arange(2, 22, 2, dtype=int)\n",
    "candidates_of_variance_of_rbfs = 2 ** np.arange(-5, 4, 2, dtype=float)\n",
    "candidates_of_lambda_in_em_algorithm = 2 ** np.arange(-4, 0, dtype=float)\n",
    "candidates_of_lambda_in_em_algorithm = np.append(0, candidates_of_lambda_in_em_algorithm)\n",
    "number_of_iterations = 300\n",
    "display_flag = 0\n",
    "k_in_k3nerror = 10"
   ]
  },
  {
   "cell_type": "code",
   "execution_count": null,
   "metadata": {
    "collapsed": true
   },
   "outputs": [],
   "source": [
    "# load an iris dataset\n",
    "iris = load_iris()\n",
    "# input_dataset = pd.DataFrame(iris.data, columns=iris.feature_names)\n",
    "input_dataset = iris.data\n",
    "color = iris.target"
   ]
  },
  {
   "cell_type": "code",
   "execution_count": null,
   "metadata": {
    "collapsed": true
   },
   "outputs": [],
   "source": [
    "# autoscaling\n",
    "input_dataset = (input_dataset - input_dataset.mean(axis=0)) / input_dataset.std(axis=0, ddof=1)"
   ]
  },
  {
   "cell_type": "code",
   "execution_count": null,
   "metadata": {
    "collapsed": false
   },
   "outputs": [],
   "source": [
    "# grid search\n",
    "parameters_and_k3nerror = []\n",
    "all_calculation_numbers = len(candidates_of_shape_of_map) * len(candidates_of_shape_of_rbf_centers) * len(\n",
    "    candidates_of_variance_of_rbfs) * len(candidates_of_lambda_in_em_algorithm)\n",
    "calculation_number = 0\n",
    "for shape_of_map_grid in candidates_of_shape_of_map:\n",
    "    for shape_of_rbf_centers_grid in candidates_of_shape_of_rbf_centers:\n",
    "        for variance_of_rbfs_grid in candidates_of_variance_of_rbfs:\n",
    "            for lambda_in_em_algorithm_grid in candidates_of_lambda_in_em_algorithm:\n",
    "                calculation_number += 1\n",
    "                print([calculation_number, all_calculation_numbers])\n",
    "                # construct GTM model\n",
    "                model = gtm([shape_of_map_grid, shape_of_map_grid],\n",
    "                            [shape_of_rbf_centers_grid, shape_of_rbf_centers_grid],\n",
    "                            variance_of_rbfs_grid, lambda_in_em_algorithm_grid, number_of_iterations, display_flag)\n",
    "                model.fit(input_dataset)\n",
    "                if model.success_flag:\n",
    "                    # calculate of responsibilities\n",
    "                    responsibilities = model.responsibility(input_dataset)\n",
    "                    # calculate the mean of responsibilities\n",
    "                    means = responsibilities.dot(model.map_grids)\n",
    "                    # calculate k3n-error\n",
    "                    k3nerror_of_gtm = k3nerror(input_dataset, means, k_in_k3nerror)\n",
    "                else:\n",
    "                    k3nerror_of_gtm = 10 ** 100\n",
    "                parameters_and_k3nerror.append(\n",
    "                    [shape_of_map_grid, shape_of_rbf_centers_grid, variance_of_rbfs_grid, lambda_in_em_algorithm_grid,\n",
    "                     k3nerror_of_gtm])"
   ]
  },
  {
   "cell_type": "code",
   "execution_count": null,
   "metadata": {
    "collapsed": true
   },
   "outputs": [],
   "source": [
    "# optimized GTM\n",
    "parameters_and_k3nerror = np.array(parameters_and_k3nerror)\n",
    "optimized_hyperparameter_number = \\\n",
    "    np.where(parameters_and_k3nerror[:, 4] == np.min(parameters_and_k3nerror[:, 4]))[0][0]\n",
    "shape_of_map = [parameters_and_k3nerror[optimized_hyperparameter_number, 0],\n",
    "                parameters_and_k3nerror[optimized_hyperparameter_number, 0]]\n",
    "shape_of_rbf_centers = [parameters_and_k3nerror[optimized_hyperparameter_number, 1],\n",
    "                        parameters_and_k3nerror[optimized_hyperparameter_number, 1]]\n",
    "variance_of_rbfs = parameters_and_k3nerror[optimized_hyperparameter_number, 2]\n",
    "lambda_in_em_algorithm = parameters_and_k3nerror[optimized_hyperparameter_number, 3]"
   ]
  },
  {
   "cell_type": "code",
   "execution_count": null,
   "metadata": {
    "collapsed": true
   },
   "outputs": [],
   "source": [
    "# construct GTM model\n",
    "model = gtm(shape_of_map, shape_of_rbf_centers, variance_of_rbfs, lambda_in_em_algorithm, number_of_iterations,\n",
    "            display_flag)\n",
    "model.fit(input_dataset)"
   ]
  },
  {
   "cell_type": "code",
   "execution_count": null,
   "metadata": {
    "collapsed": true
   },
   "outputs": [],
   "source": [
    "# calculate of responsibilities\n",
    "responsibilities = model.responsibility(input_dataset)"
   ]
  },
  {
   "cell_type": "code",
   "execution_count": null,
   "metadata": {
    "collapsed": false
   },
   "outputs": [],
   "source": [
    "# plot the mean of responsibilities\n",
    "means = responsibilities.dot(model.map_grids)\n",
    "plt.figure(figsize=figure.figaspect(1))\n",
    "plt.scatter(means[:, 0], means[:, 1], c=color)\n",
    "plt.ylim(-1.1, 1.1)\n",
    "plt.xlim(-1.1, 1.1)\n",
    "plt.xlabel(\"z1 (mean)\")\n",
    "plt.ylabel(\"z2 (mean)\")\n",
    "plt.show()"
   ]
  },
  {
   "cell_type": "code",
   "execution_count": null,
   "metadata": {
    "collapsed": true
   },
   "outputs": [],
   "source": [
    "print(\"Optimized hyperparameters\")\n",
    "print(\"Optimal map size: {0}, {1}\".format(shape_of_map[0], shape_of_map[1]))\n",
    "print(\"Optimal shape of RBF centers: {0}, {1}\".format(shape_of_rbf_centers[0], shape_of_rbf_centers[1]))\n",
    "print(\"Optimal variance of RBFs: {0}\".format(variance_of_rbfs))\n",
    "print(\"Optimal lambda in EM algorithm: {0}\".format(lambda_in_em_algorithm))"
   ]
  }
 ],
 "metadata": {
  "kernelspec": {
   "display_name": "Python 3",
   "language": "python",
   "name": "python3"
  },
  "language_info": {
   "codemirror_mode": {
    "name": "ipython",
    "version": 3
   },
   "file_extension": ".py",
   "mimetype": "text/x-python",
   "name": "python",
   "nbconvert_exporter": "python",
   "pygments_lexer": "ipython3",
   "version": "3.6.0"
  }
 },
 "nbformat": 4,
 "nbformat_minor": 2
}

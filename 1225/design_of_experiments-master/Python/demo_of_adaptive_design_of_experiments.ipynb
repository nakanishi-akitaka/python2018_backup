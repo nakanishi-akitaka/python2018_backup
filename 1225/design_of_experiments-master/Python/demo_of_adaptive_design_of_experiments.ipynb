{
 "cells": [
  {
   "cell_type": "markdown",
   "metadata": {},
   "source": [
    "# Demonstration of adaptive design of experiments (DoE) based on Bayesian optimization\n",
    "Hiromasa Kaneko"
   ]
  },
  {
   "cell_type": "code",
   "execution_count": null,
   "metadata": {
    "collapsed": true
   },
   "outputs": [],
   "source": [
    "import matplotlib.pyplot as plt\n",
    "import numpy as np\n",
    "import mpl_toolkits.mplot3d\n",
    "\n",
    "from bayesianoptimization import bayesianoptimization"
   ]
  },
  {
   "cell_type": "code",
   "execution_count": null,
   "metadata": {
    "collapsed": true
   },
   "outputs": [],
   "source": [
    "# settings\n",
    "number_of_samples = 10000\n",
    "number_of_first_samples = 30\n",
    "number_of_iteration = 100\n",
    "acquisition_function_flag = 2  # 1: Mutual information (MI), 2: Expected Improvement(EI), 3: Probability of improvement (PI)\n",
    "do_maximization = False  # true: maximization, false: minimization"
   ]
  },
  {
   "cell_type": "code",
   "execution_count": null,
   "metadata": {
    "collapsed": false
   },
   "outputs": [],
   "source": [
    "# generate dataset\n",
    "np.random.seed(seed=5)\n",
    "X = np.random.rand(number_of_samples, 2) * 4 - 2\n",
    "function1 = 1 + ((X[:, 0] + X[:, 1] + 1) ** 2) * (\n",
    "        19 - 14 * X[:, 0] + 3 * X[:, 0] ** 2 - 14 * X[:, 1] + 6 * X[:, 0] * X[:, 1] + 3 * X[:, 1] ** 2)\n",
    "function2 = 30 + ((2 * X[:, 0] - 3 * X[:, 1]) ** 2) * (\n",
    "        18 - 32 * X[:, 0] + 12 * X[:, 0] ** 2 + 48 * X[:, 1] - 36 * X[:, 0] * X[:, 1] + 27 * X[:, 1] ** 2)\n",
    "y = np.log(function1 * function2)\n",
    "print('min of y : {0}'.format(min(y)))"
   ]
  },
  {
   "cell_type": "code",
   "execution_count": null,
   "metadata": {
    "collapsed": false
   },
   "outputs": [],
   "source": [
    "# plot\n",
    "plt.rcParams['font.size'] = 18\n",
    "fig = plt.figure(figsize=(7, 6))\n",
    "ax = fig.add_subplot(111, projection='3d')\n",
    "ax.set_xlabel('x1')\n",
    "ax.set_ylabel('x2')\n",
    "ax.set_zlabel('y')\n",
    "ax.scatter(X[:, 0], X[:, 1], y, c=y)\n",
    "plt.tight_layout()\n",
    "plt.show()"
   ]
  },
  {
   "cell_type": "code",
   "execution_count": null,
   "metadata": {
    "collapsed": true
   },
   "outputs": [],
   "source": [
    "# set first samples\n",
    "bad_sample_number = np.where(y > 10)[0]\n",
    "bad_X = X[bad_sample_number, :]\n",
    "bad_y = y[bad_sample_number]\n",
    "np.random.seed(seed=1)\n",
    "first_sample_numbers = np.random.randint(0, len(bad_y), number_of_first_samples)\n",
    "X_train = bad_X[first_sample_numbers, :]\n",
    "y_train = bad_y[first_sample_numbers]\n",
    "X = np.delete(X, bad_sample_number[first_sample_numbers], 0)\n",
    "y = np.delete(y, bad_sample_number[first_sample_numbers])"
   ]
  },
  {
   "cell_type": "code",
   "execution_count": null,
   "metadata": {
    "collapsed": false
   },
   "outputs": [],
   "source": [
    "# plot\n",
    "plt.rcParams['font.size'] = 18\n",
    "fig = plt.figure(figsize=(7, 6))\n",
    "ax = fig.add_subplot(111, projection='3d')\n",
    "ax.set_xlabel('x1')\n",
    "ax.set_ylabel('x2')\n",
    "ax.set_zlabel('y')\n",
    "ax.scatter(X_train[:, 0], X_train[:, 1], y_train, c='blue')\n",
    "plt.tight_layout()\n",
    "plt.show()"
   ]
  },
  {
   "cell_type": "code",
   "execution_count": null,
   "metadata": {
    "collapsed": false
   },
   "outputs": [],
   "source": [
    "# Maximization or minimization of y\n",
    "if not do_maximization:\n",
    "    y = -y\n",
    "    y_train = -y_train\n",
    "cumulative_variance = np.empty(len(y))\n",
    "for iteration in range(number_of_iteration):\n",
    "    print([iteration+1, number_of_iteration])\n",
    "    # Bayesian optimization\n",
    "    selected_candidate_number, selected_X_candidate, cumulative_variance = bayesianoptimization(X_train, y_train, X,\n",
    "                                                                                                acquisition_function_flag,\n",
    "                                                                                                cumulative_variance)\n",
    "\n",
    "    X_train = np.append(X_train, np.reshape(X[selected_candidate_number, :], (1, X_train.shape[1])), 0)\n",
    "    y_train = np.append(y_train, y[selected_candidate_number])\n",
    "    X = np.delete(X, selected_candidate_number, 0)\n",
    "    y = np.delete(y, selected_candidate_number)\n",
    "    cumulative_variance = np.delete(cumulative_variance, selected_candidate_number)\n",
    "\n",
    "    if do_maximization:\n",
    "        print('max of current y : {0}'.format(max(y_train)))\n",
    "    else:\n",
    "        print('min of current y : {0}'.format(-max(y_train)))"
   ]
  }
 ],
 "metadata": {
  "kernelspec": {
   "display_name": "Python 3",
   "language": "python",
   "name": "python3"
  },
  "language_info": {
   "codemirror_mode": {
    "name": "ipython",
    "version": 3
   },
   "file_extension": ".py",
   "mimetype": "text/x-python",
   "name": "python",
   "nbconvert_exporter": "python",
   "pygments_lexer": "ipython3",
   "version": "3.6.0"
  }
 },
 "nbformat": 4,
 "nbformat_minor": 2
}

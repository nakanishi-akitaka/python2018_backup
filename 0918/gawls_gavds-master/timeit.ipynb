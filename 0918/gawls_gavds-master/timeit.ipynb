{
 "cells": [
  {
   "cell_type": "code",
   "execution_count": 10,
   "metadata": {},
   "outputs": [
    {
     "name": "stdout",
     "output_type": "stream",
     "text": [
      "16.5 ms ± 0 ns per loop (mean ± std. dev. of 1 run, 1 loop each)\n"
     ]
    }
   ],
   "source": [
    "%%timeit -r1 -n1\n",
    "# 「timeit以下のcell内のプログラムをn回繰り返すのに必要な時間」をr回測定したときの平均値と標準偏差を返す\n",
    "# よって、cellの冒頭でないと動かない\n",
    "#  -r 1 -n 1にしておかないと、デフォルトで複数回実行するので非常に時間がかかる\n",
    "\n",
    "# -*- coding: utf-8 -*- \n",
    "# %reset -f\n",
    "\"\"\"\n",
    "@author: Hiromasa Kaneko\n",
    "\"\"\"\n",
    "# Demonstration of Genetic Algorithm-based WaveLength Selection\n",
    "# using Support Vector Regression (GAWLSSVR)\n",
    "\n",
    "# 計測したい処理\n",
    "for i in range(10000):\n",
    "    i ** 10"
   ]
  },
  {
   "cell_type": "code",
   "execution_count": 11,
   "metadata": {},
   "outputs": [
    {
     "name": "stdout",
     "output_type": "stream",
     "text": [
      "17.2 ms ± 1.26 ms per loop (mean ± std. dev. of 10 runs, 1 loop each)\n"
     ]
    }
   ],
   "source": [
    "%%timeit -r10 -n1\n",
    "# -*- coding: utf-8 -*- \n",
    "# %reset -f\n",
    "\"\"\"\n",
    "@author: Hiromasa Kaneko\n",
    "\"\"\"\n",
    "# Demonstration of Genetic Algorithm-based WaveLength Selection\n",
    "# using Support Vector Regression (GAWLSSVR)\n",
    "\n",
    "# 計測したい処理\n",
    "for i in range(10000):\n",
    "    i ** 10"
   ]
  },
  {
   "cell_type": "code",
   "execution_count": 13,
   "metadata": {},
   "outputs": [
    {
     "name": "stdout",
     "output_type": "stream",
     "text": [
      "16.8 ms ± 0 ns per loop (mean ± std. dev. of 1 run, 10 loops each)\n"
     ]
    }
   ],
   "source": [
    "%%timeit -r1 -n10\n",
    "# -*- coding: utf-8 -*- \n",
    "# %reset -f\n",
    "\"\"\"\n",
    "@author: Hiromasa Kaneko\n",
    "\"\"\"\n",
    "# Demonstration of Genetic Algorithm-based WaveLength Selection\n",
    "# using Support Vector Regression (GAWLSSVR)\n",
    "\n",
    "# 計測したい処理\n",
    "for i in range(10000):\n",
    "    i ** 10"
   ]
  },
  {
   "cell_type": "markdown",
   "metadata": {},
   "source": []
  }
 ],
 "metadata": {
  "kernelspec": {
   "display_name": "Python 3",
   "language": "python",
   "name": "python3"
  },
  "language_info": {
   "codemirror_mode": {
    "name": "ipython",
    "version": 3
   },
   "file_extension": ".py",
   "mimetype": "text/x-python",
   "name": "python",
   "nbconvert_exporter": "python",
   "pygments_lexer": "ipython3",
   "version": "3.6.5"
  }
 },
 "nbformat": 4,
 "nbformat_minor": 2
}

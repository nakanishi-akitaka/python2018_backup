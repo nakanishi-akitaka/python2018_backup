{
 "cells": [
  {
   "cell_type": "code",
   "execution_count": 2,
   "metadata": {},
   "outputs": [
    {
     "name": "stdout",
     "output_type": "stream",
     "text": [
      "[[1 2 3]\n",
      " [4 5 6]]\n"
     ]
    }
   ],
   "source": [
    "# https://pythondatascience.plavox.info/numpy\n",
    "import numpy as np\n",
    "x = np.array([[1, 2, 3], [4, 5, 6]], np.int32)\n",
    "print(x)"
   ]
  },
  {
   "cell_type": "code",
   "execution_count": 5,
   "metadata": {},
   "outputs": [
    {
     "name": "stdout",
     "output_type": "stream",
     "text": [
      "<class 'numpy.ndarray'>\n",
      "int32\n",
      "(2, 3)\n"
     ]
    }
   ],
   "source": [
    "# https://pythondatascience.plavox.info/numpy/行列を作ってみよう\n",
    "\n",
    "# 2 x 3 行列を作成\n",
    "x = np.array([[1, 2, 3], [4, 5, 6]], np.int32)\n",
    "\n",
    "# 配列自体の型を確認\n",
    "print(type(x))\n",
    "\n",
    "# 配列の要素の型を確認\n",
    "print(x.dtype)\n",
    "\n",
    "# 配列のサイズを確認\n",
    "print(x.shape)"
   ]
  },
  {
   "cell_type": "code",
   "execution_count": 12,
   "metadata": {},
   "outputs": [
    {
     "name": "stdout",
     "output_type": "stream",
     "text": [
      "6\n",
      "6\n",
      "[1 2 3]\n",
      "[4 5 6]\n",
      "[2 3 4 5 6]\n",
      "[8 9]\n",
      "[1 3 5]\n",
      "[1 4]\n",
      "[5 6 7 8 9]\n"
     ]
    }
   ],
   "source": [
    "# https://pythondatascience.plavox.info/numpy/行列を操作する\n",
    "\n",
    "# 2 x 3 行列を作成\n",
    "x = np.array([[1, 2, 3], [4, 5, 6]], np.int32)\n",
    "\n",
    "# 特定の要素の値を取得\n",
    "print(x[1, 2])\n",
    "print(x[1][2])\n",
    "\n",
    "# 0 行目のみを取得\n",
    "print(x[0])\n",
    "\n",
    "# 1 行目のみを取得\n",
    "print(x[1])\n",
    "\n",
    "# 1次元配列を作成\n",
    "x = np.array([0, 1, 2, 3, 4, 5, 6, 7, 8, 9])\n",
    "\n",
    "# 2番目の要素から7番目の要素までを取得\n",
    "print(x[2:7])\n",
    "\n",
    "# 後ろから2番目の要素から、前から10番目の要素までを取得\n",
    "print(x[-2:10])\n",
    "\n",
    "# 1番目の要素から7番目の要素まで１つスキップしながら取得\n",
    "print(x[1:7:2])\n",
    "\n",
    "# 1番目の要素から7番目の要素まで2つスキップしながら取得\n",
    "print(x[1:7:3])\n",
    "\n",
    "# 5番目の要素から最後の要素までを抽出\n",
    "print(x[5:])"
   ]
  },
  {
   "cell_type": "code",
   "execution_count": 32,
   "metadata": {},
   "outputs": [
    {
     "name": "stdout",
     "output_type": "stream",
     "text": [
      "0.0\n",
      "[0.         0.84147098]\n",
      "0.5403023058681398\n",
      "[1.         0.54030231]\n",
      "1.5574077246549023\n",
      "[0.         1.55740772]\n"
     ]
    },
    {
     "data": {
      "image/png": "[encoded data removed]",
      "text/plain": [
       "<Figure size 432x288 with 1 Axes>"
      ]
     },
     "metadata": {},
     "output_type": "display_data"
    },
    {
     "name": "stdout",
     "output_type": "stream",
     "text": [
      "0.0\n",
      "[0.         1.57079633]\n",
      "0.0\n",
      "[1.57079633 0.        ]\n",
      "0.7853981633974483\n",
      "[0.         0.78539816]\n"
     ]
    }
   ],
   "source": [
    "# https://pythondatascience.plavox.info/numpy/数学系の関数\n",
    "print(np.sin(0))\n",
    "print(np.sin([0, 1]))\n",
    "print(np.cos(1))\n",
    "print(np.cos([0, 1]))\n",
    "print(np.tan(1))\n",
    "print(np.tan([0, 1]))\n",
    "\n",
    "%matplotlib inline\n",
    "import matplotlib.pylab as plt\n",
    "x = np.linspace(-np.pi, np.pi, 201)\n",
    "plt.plot(x, np.sin(x))\n",
    "plt.xlabel('Angle [rad]')\n",
    "plt.ylabel('sin(x)')\n",
    "plt.axis('tight')\n",
    "plt.show()\n",
    "\n",
    "print(np.arcsin(0))\n",
    "print(np.arcsin([0, 1]))\n",
    "print(np.arccos(1))\n",
    "print(np.arccos([0, 1]))\n",
    "print(np.arctan(1))\n",
    "print(np.arctan([0, 1]))\n"
   ]
  },
  {
   "cell_type": "code",
   "execution_count": 33,
   "metadata": {},
   "outputs": [
    {
     "name": "stdout",
     "output_type": "stream",
     "text": [
      "0.0\n",
      "[1.         0.         1.57079633]\n",
      "0.0\n",
      "[1.         0.         1.57079633]\n",
      "0.0\n",
      "[180.          57.29577951  28.64788976]\n"
     ]
    }
   ],
   "source": [
    "# https://pythondatascience.plavox.info/numpy/数学系の関数\n",
    "\n",
    "# 度からラジアンへ\n",
    "print(np.radians(0))\n",
    "print(np.radians([np.rad2deg(1), 0, 90]))\n",
    "\n",
    "# 度からラジアンへ\n",
    "print(np.deg2rad(0))\n",
    "print(np.deg2rad([np.rad2deg(1), 0, 90]))\n",
    "\n",
    "# ラジアンから度へ\n",
    "print(np.rad2deg(0))\n",
    "print(np.rad2deg([np.deg2rad(180), 1, 0.5]))"
   ]
  },
  {
   "cell_type": "code",
   "execution_count": 34,
   "metadata": {},
   "outputs": [
    {
     "name": "stdout",
     "output_type": "stream",
     "text": [
      "1.0\n",
      "2.718281828459045\n",
      "2.718281828459045\n",
      "0.0\n",
      "[0. 1. 2.]\n",
      "1.0\n",
      "[0.         1.44269504 2.88539008]\n",
      "3.0\n",
      "10.0\n"
     ]
    }
   ],
   "source": [
    "# https://pythondatascience.plavox.info/numpy/数学系の関数\n",
    "\n",
    "# e(0)\n",
    "print(np.exp(0)) \n",
    "# e(1)\n",
    "print(np.exp(1))\n",
    "\n",
    "# e を出力\n",
    "print(np.e) \n",
    "\n",
    "# eが底の指数関数 (Log_e(x))\n",
    "print(np.log(1))\n",
    "#print(np.log([1, np.e, np.e ** 2, 0]))\n",
    "print(np.log([1, np.e, np.e ** 2]))\n",
    " \n",
    "# 2が底の指数関数 (Log_2(x))\n",
    "print(np.log2(2))\n",
    "# print(np.log2([1, np.e, np.e ** 2, 0]))\n",
    "print(np.log2([1, np.e, np.e ** 2]))\n",
    " \n",
    "# 10 が底の指数関数 (Log_10(x))\n",
    "print(np.log10(1000))\n",
    "print(np.log10(1e+10))  # 1e+10 = 10,000,000,000\n"
   ]
  },
  {
   "cell_type": "code",
   "execution_count": 35,
   "metadata": {},
   "outputs": [
    {
     "name": "stdout",
     "output_type": "stream",
     "text": [
      "[1 2 0 1 2 0]\n",
      "[-2. -2. -0.  0.  2.  2.  2.]\n",
      "[-1. -1. -0.  0.  1.  1.  2.]\n",
      "[-2. -2. -1.  0.  1.  1.  2.]\n",
      "[-1. -1. -0.  1.  2.  2.  2.]\n",
      "[-1. -1. -0.  0.  1.  1.  2.]\n"
     ]
    }
   ],
   "source": [
    "# https://pythondatascience.plavox.info/numpy/数学系の関数\n",
    "\n",
    "# 配列 [1, 2, 3, 4, 5, 6] の各要素に対する 3 の剰余\n",
    "print(np.mod([1, 2, 3, 4, 5, 6], 3))\n",
    "\n",
    "# 配列 [-1.7, -1.5, -0.2, 0.2, 1.5, 1.7, 2.0] を作成\n",
    "a = np.array([-1.7, -1.5, -0.2, 0.2, 1.5, 1.7, 2.0])\n",
    " \n",
    "# 四捨五入 (小数点以下 .5 以上は繰上げ、.5未満は切捨て)\n",
    "print(np.round(a))\n",
    " \n",
    "# 切り捨て (小数部分を取り除く)\n",
    "print(np.trunc(a))\n",
    " \n",
    "# 切り捨て (小さい側の整数に丸める)\n",
    "print(np.floor(a))\n",
    " \n",
    "# 切り上げ (大きい側の整数に丸める)\n",
    "print(np.ceil(a))\n",
    " \n",
    "# ゼロに近い側の整数に丸める\n",
    "print(np.fix(a))\n"
   ]
  },
  {
   "cell_type": "code",
   "execution_count": 36,
   "metadata": {},
   "outputs": [
    {
     "name": "stdout",
     "output_type": "stream",
     "text": [
      "[ 2.  4.  6. nan]\n",
      "[ 1.  3.  5. nan]\n",
      "[1. 3. 5. 7.]\n",
      "[2. 4. 6. 7.]\n",
      "6\n",
      "1\n"
     ]
    }
   ],
   "source": [
    "# https://pythondatascience.plavox.info/numpy/数学系の関数\n",
    "\n",
    "# 配列 a, b を定義\n",
    "a = [1, 4, 5, np.nan]\n",
    "b = [2, 3, 6, 7]\n",
    " \n",
    "# 各要素の最大値、最小値\n",
    "print(np.maximum(a, b))\n",
    "print(np.minimum(a, b))\n",
    " \n",
    "# 各要素の最大値、最小値（NaN を無視する）\n",
    "print(np.fmin(a, b))\n",
    "print(np.fmax(a, b))\n",
    " \n",
    "# なお、1つの配列の最大値、最小値は NumPy を使わずにも計算可能です。\n",
    "print(max([2, 6, 1, 4, 5, 3]))\n",
    "print(min([2, 6, 1, 4, 5, 3]))"
   ]
  },
  {
   "cell_type": "code",
   "execution_count": 37,
   "metadata": {},
   "outputs": [
    {
     "name": "stdout",
     "output_type": "stream",
     "text": [
      "4.0\n",
      "[1. 2. 3.]\n",
      "4.0\n"
     ]
    }
   ],
   "source": [
    "# https://pythondatascience.plavox.info/numpy/数学系の関数\n",
    "\n",
    "# √16\n",
    "print(np.sqrt(16))\n",
    " \n",
    "# 配列を引数に取ることも可能です。例: [√1, √4, √9]\n",
    "print(np.sqrt([1, 4, 9]))\n",
    " \n",
    "# 配列でなければ、NumPy を用いずに計算できます。\n",
    "import math\n",
    "print(math.sqrt(16))"
   ]
  },
  {
   "cell_type": "code",
   "execution_count": 41,
   "metadata": {},
   "outputs": [
    {
     "name": "stdout",
     "output_type": "stream",
     "text": [
      "1.0\n",
      "[2. 2.]\n",
      "2.0\n",
      "[ 3. -3.]\n",
      "(1-2j)\n",
      "[2.-3.j 2.+3.j]\n",
      "2\n",
      "[1.2 1.2]\n"
     ]
    }
   ],
   "source": [
    "# https://pythondatascience.plavox.info/numpy/数学系の関数\n",
    "\n",
    "# 1+2j の実数部 (=1) を返す\n",
    "print(np.real(1 + 2j))\n",
    "\n",
    "# [2+3j, 2-3j] の実数部\n",
    "print(np.real([2+3j, 2-3j]))\n",
    "\n",
    "# 1+2j の虚数部 (=2) を返す\n",
    "print(np.imag(1 + 2j))\n",
    "\n",
    "# [2+3j, 2-3j] の虚数部\n",
    "print(np.imag([2+3j, 2-3j]))\n",
    " \n",
    "# 1+2j の共役複素数\n",
    "print(np.conj(1+2j))\n",
    "\n",
    "# [2+3j, 2-3j] の共役複素数\n",
    "print(np.conj([2+3j, 2-3j]))\n",
    "\n",
    "# |-2|\n",
    "print(np.absolute(-2))\n",
    " \n",
    "# |[-1.2, 1.2]|\n",
    "print(np.absolute([-1.2, 1.2]))"
   ]
  },
  {
   "cell_type": "code",
   "execution_count": null,
   "metadata": {},
   "outputs": [],
   "source": []
  }
 ],
 "metadata": {
  "kernelspec": {
   "display_name": "Python 3",
   "language": "python",
   "name": "python3"
  },
  "language_info": {
   "codemirror_mode": {
    "name": "ipython",
    "version": 3
   },
   "file_extension": ".py",
   "mimetype": "text/x-python",
   "name": "python",
   "nbconvert_exporter": "python",
   "pygments_lexer": "ipython3",
   "version": "3.6.5"
  }
 },
 "nbformat": 4,
 "nbformat_minor": 2
}

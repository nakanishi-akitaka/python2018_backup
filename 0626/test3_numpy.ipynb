{
 "cells": [
  {
   "cell_type": "code",
   "execution_count": 2,
   "metadata": {},
   "outputs": [
    {
     "name": "stdout",
     "output_type": "stream",
     "text": [
      "12\n",
      "13\n",
      "(-13+0j)\n",
      "[[4 1]\n",
      " [2 2]]\n"
     ]
    }
   ],
   "source": [
    "# https://pythondatascience.plavox.info/numpy/線形代数\n",
    "\n",
    "import numpy as np\n",
    " \n",
    "# 整数同士のドット積（通常の掛け算と同じになります）\n",
    "# 3・4\n",
    "print(np.dot(3, 4))\n",
    " \n",
    "# 行列同士のドット積\n",
    "# (2, 3)・(2, 3)\n",
    "print(np.dot([2, 3], [2, 3])) \n",
    "\n",
    "# 複素数を扱うこともできます\n",
    "# (2j, 3j)・(2j, 3j)\n",
    "print(np.dot([2j, 3j], [2j, 3j]))\n",
    " \n",
    "# 2 次元行列同士のドット積を計算できます。\n",
    "a = [[1, 0], [0, 1]]\n",
    "b = [[4, 1], [2, 2]]\n",
    "print(np.dot(a, b))"
   ]
  },
  {
   "cell_type": "code",
   "execution_count": 4,
   "metadata": {},
   "outputs": [
    {
     "name": "stdout",
     "output_type": "stream",
     "text": [
      "2\n",
      "[[[ 0  1  2  3]\n",
      "  [ 4  5  6  7]\n",
      "  [ 8  9 10 11]]\n",
      "\n",
      " [[12 13 14 15]\n",
      "  [16 17 18 19]\n",
      "  [20 21 22 23]]]\n",
      "[0 1 2 3]\n",
      "[[ 14  38  62]\n",
      " [ 86 110 134]]\n",
      "[[1. 0.]\n",
      " [0. 1.]]\n",
      "[[7. 0.]\n",
      " [0. 7.]]\n"
     ]
    }
   ],
   "source": [
    "# 通常のベクトル同士の内積\n",
    "# (1, 2, 3)・(0, 1, 0)\n",
    "a = np.array([1, 2, 3])\n",
    "b = np.array([0, 1, 0])\n",
    "print(np.inner(a, b))\n",
    " \n",
    "# 多次元ベクトルの内積を計算\n",
    "a = np.arange(24).reshape((2,3,4))\n",
    "print(a)\n",
    "b = np.arange(4)\n",
    "print(b)\n",
    "print(np.inner(a, b))\n",
    " \n",
    "# b がスカラーの場合は以下のように指定します\n",
    "a = np.eye(2)\n",
    "print(a)\n",
    "print(np.inner(np.eye(2), 7))"
   ]
  },
  {
   "cell_type": "code",
   "execution_count": 6,
   "metadata": {},
   "outputs": [
    {
     "name": "stdout",
     "output_type": "stream",
     "text": [
      "[[-2. -1.  0.  1.  2.]\n",
      " [-2. -1.  0.  1.  2.]\n",
      " [-2. -1.  0.  1.  2.]\n",
      " [-2. -1.  0.  1.  2.]\n",
      " [-2. -1.  0.  1.  2.]]\n",
      "[[0.+2.j 0.+2.j 0.+2.j 0.+2.j 0.+2.j]\n",
      " [0.+1.j 0.+1.j 0.+1.j 0.+1.j 0.+1.j]\n",
      " [0.+0.j 0.+0.j 0.+0.j 0.+0.j 0.+0.j]\n",
      " [0.-1.j 0.-1.j 0.-1.j 0.-1.j 0.-1.j]\n",
      " [0.-2.j 0.-2.j 0.-2.j 0.-2.j 0.-2.j]]\n",
      "[[-2.+2.j -1.+2.j  0.+2.j  1.+2.j  2.+2.j]\n",
      " [-2.+1.j -1.+1.j  0.+1.j  1.+1.j  2.+1.j]\n",
      " [-2.+0.j -1.+0.j  0.+0.j  1.+0.j  2.+0.j]\n",
      " [-2.-1.j -1.-1.j  0.-1.j  1.-1.j  2.-1.j]\n",
      " [-2.-2.j -1.-2.j  0.-2.j  1.-2.j  2.-2.j]]\n",
      "[['a' 'aa' 'aaa']\n",
      " ['b' 'bb' 'bbb']\n",
      " ['c' 'cc' 'ccc']]\n"
     ]
    }
   ],
   "source": [
    "##マンデルブロット (Mandelbrot)\n",
    "rl = np.outer(np.ones((5,)), np.linspace(-2, 2, 5))\n",
    "print(rl)\n",
    " \n",
    "im = np.outer(1j*np.linspace(2, -2, 5), np.ones((5,)))\n",
    "print(im)\n",
    " \n",
    "grid = rl + im\n",
    "print(grid)\n",
    " \n",
    "# 文字列をベクトルとして計算することもできます\n",
    "x = np.array(['a', 'b', 'c'], dtype=object)\n",
    "print(np.outer(x, [1, 2, 3]))"
   ]
  },
  {
   "cell_type": "code",
   "execution_count": 7,
   "metadata": {},
   "outputs": [
    {
     "name": "stdout",
     "output_type": "stream",
     "text": [
      "[[1. 0. 0.]\n",
      " [0. 1. 0.]\n",
      " [0. 0. 1.]]\n",
      "[[1. 0. 0. 0.]\n",
      " [0. 1. 0. 0.]\n",
      " [0. 0. 1. 0.]\n",
      " [0. 0. 0. 1.]]\n"
     ]
    }
   ],
   "source": [
    "# 3 次の単位行列\n",
    "print(np.identity(3))\n",
    " \n",
    "# 4 次の単位行列\n",
    "print(np.identity(4))"
   ]
  },
  {
   "cell_type": "code",
   "execution_count": 10,
   "metadata": {},
   "outputs": [
    {
     "name": "stdout",
     "output_type": "stream",
     "text": [
      "[2. 5.]\n",
      "[[-0.70710678 -0.4472136 ]\n",
      " [ 0.70710678 -0.89442719]]\n",
      "[1. 2. 3.]\n",
      "[[ 1.         -0.70710678  0.72760688]\n",
      " [ 0.          0.70710678 -0.48507125]\n",
      " [ 0.          0.          0.48507125]]\n",
      "[2. 5.]\n",
      "[1. 2. 3.]\n"
     ]
    }
   ],
   "source": [
    "# numpy.linalg パッケージを読み込み\n",
    "from numpy import linalg as LA\n",
    " \n",
    "# 2 次行列 [[3, 1], [2, 4]] の固有値、固有ベクトル\n",
    "matrix1 = np.array([[3, 1], [2, 4]])\n",
    "w, v = LA.eig(matrix1)\n",
    "print(w)  # 固有値\n",
    "print(v)  # 固有ベクトル(正規化済)\n",
    " \n",
    "# 3 次行列 [[1, -1, 2], [0, 2, -1], [0, 0, 3]] の固有値、固有ベクトル\n",
    "matrix2 = np.array([[1, -1, 2], [0, 2, -1], [0, 0, 3]])\n",
    "w, v = LA.eig(matrix2)\n",
    "print(w)  # 固有値\n",
    "print(v)  # 固有ベクトル(正規化済)\n",
    "\n",
    "# 2 次行列 [[3, 1], [2, 4]] の固有値\n",
    "print(LA.eigvals(matrix1))\n",
    " \n",
    "# 3 次行列 [[1, -1, 2], [0, 2, -1], [0, 0, 3]] の固有値\n",
    "print(LA.eigvals(matrix2))"
   ]
  },
  {
   "cell_type": "code",
   "execution_count": 12,
   "metadata": {},
   "outputs": [
    {
     "name": "stdout",
     "output_type": "stream",
     "text": [
      "-2.0000000000000004\n",
      "[[-2.   1. ]\n",
      " [ 1.5 -0.5]]\n",
      "[[1.00000000e+00 1.11022302e-16]\n",
      " [0.00000000e+00 1.00000000e+00]]\n"
     ]
    }
   ],
   "source": [
    "# 2次の正方行列 [[1, 2], [3, 4]] の行列式の値\n",
    "a = np.array([[1, 2], [3, 4]])\n",
    "print(np.linalg.det(a))\n",
    "\n",
    "# 2 次の行列 A = [[1, 2], [3, 4]] の逆行列 A^-1\n",
    "from numpy.linalg import inv\n",
    " \n",
    "a = np.array([[1, 2], [3, 4]])\n",
    "print(inv(a))\n",
    " \n",
    "# 確認 (A・A^-1 = 単位行列 になることを確認)\n",
    "ainv = inv(a)\n",
    "print(np.dot(a, ainv))"
   ]
  },
  {
   "cell_type": "code",
   "execution_count": 14,
   "metadata": {},
   "outputs": [
    {
     "name": "stdout",
     "output_type": "stream",
     "text": [
      "[[1 2 3]\n",
      " [3 2 1]\n",
      " [2 4 6]]\n",
      "2\n",
      "[[1. 0. 0. 0.]\n",
      " [0. 1. 0. 0.]\n",
      " [0. 0. 1. 0.]\n",
      " [0. 0. 0. 1.]]\n",
      "4\n"
     ]
    }
   ],
   "source": [
    "# numpy.linalg から matrix_rank 関数をロード\n",
    "from numpy.linalg import matrix_rank\n",
    " \n",
    "# 行列 [[1, 2, 3],[3, 2, 1],[2, 4, 6]] のランクを求めます。\n",
    "matrix1 = np.array([[1, 2, 3], [3, 2, 1], [2, 4, 6]])\n",
    "print(matrix1)\n",
    "print(matrix_rank(matrix1))\n",
    " \n",
    "# 対角行列の場合は常に次数と同じになります\n",
    "matrix2 = np.eye(4)\n",
    "print(matrix2)\n",
    "print(matrix_rank(matrix2))"
   ]
  },
  {
   "cell_type": "code",
   "execution_count": 15,
   "metadata": {},
   "outputs": [
    {
     "name": "stdout",
     "output_type": "stream",
     "text": [
      "[0. 0. 0.]\n",
      "[[0. 0. 0. 0.]\n",
      " [0. 0. 0. 0.]\n",
      " [0. 0. 0. 0.]\n",
      " [0. 0. 0. 0.]]\n",
      "5.477225575051661\n",
      "5.477225575051661\n"
     ]
    }
   ],
   "source": [
    "# 長さが 3 の零行列\n",
    "print(np.zeros(3))\n",
    " \n",
    "# 長さが 4 x 4 の零行列\n",
    "print(np.zeros([4, 4]))\n",
    "\n",
    "from numpy import linalg as LA\n",
    " \n",
    "a = np.array([1, 2, 3, 4])\n",
    "print(LA.norm(a))\n",
    " \n",
    "# 2 次の行列 b = [[1, 2], [3, 4]] のノルム ||b|| は以下のように計算できます。\n",
    "b = np.array([[1, 2], [3, 4]])\n",
    "print(LA.norm(b))"
   ]
  },
  {
   "cell_type": "code",
   "execution_count": null,
   "metadata": {},
   "outputs": [],
   "source": []
  }
 ],
 "metadata": {
  "kernelspec": {
   "display_name": "Python 3",
   "language": "python",
   "name": "python3"
  },
  "language_info": {
   "codemirror_mode": {
    "name": "ipython",
    "version": 3
   },
   "file_extension": ".py",
   "mimetype": "text/x-python",
   "name": "python",
   "nbconvert_exporter": "python",
   "pygments_lexer": "ipython3",
   "version": "3.6.5"
  }
 },
 "nbformat": 4,
 "nbformat_minor": 2
}

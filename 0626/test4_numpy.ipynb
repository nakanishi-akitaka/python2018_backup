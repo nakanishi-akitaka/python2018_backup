{
 "cells": [
  {
   "cell_type": "code",
   "execution_count": 4,
   "metadata": {
    "scrolled": true
   },
   "outputs": [
    {
     "name": "stdout",
     "output_type": "stream",
     "text": [
      "0.41118115305546155\n",
      "[0.46725601 0.57339015 0.26409465]\n",
      "[[0.04276114 0.84398187 0.6526943  0.24254049]\n",
      " [0.28846149 0.3699638  0.30661595 0.65557989]\n",
      " [0.9539036  0.24082395 0.82391249 0.89160353]]\n"
     ]
    }
   ],
   "source": [
    "# https://pythondatascience.plavox.info/numpy/乱数を生成\n",
    "# 一様乱数 (0.0 – 1.0) の間のランダムな数値を出力するには、\n",
    "# numpy.random.rand(出力する件数) を用います。\n",
    "\n",
    "import numpy as np\n",
    "\n",
    "# 一様乱数 を 1 件出力する\n",
    "print(np.random.rand())\n",
    "\n",
    "# 一様乱数 を 3 件出力する\n",
    "print(np.random.rand(3))\n",
    "\n",
    "# 一様乱数 を 3  x 4 の行列で出力する\n",
    "print(np.random.rand(3, 4))"
   ]
  },
  {
   "cell_type": "code",
   "execution_count": 7,
   "metadata": {
    "scrolled": true
   },
   "outputs": [
    {
     "name": "stdout",
     "output_type": "stream",
     "text": [
      "-0.0981513377208768\n",
      "26.07615235347067\n",
      "[74.41186255 36.3276971  48.02887045 40.79246358 39.38876972 51.94557541\n",
      " 59.49714554 39.93605891 56.22545674 54.53108003]\n",
      "[[42.43561028 52.97791277 64.79767547 36.95873385]\n",
      " [57.77934077 56.68941557 33.81800324 79.63983867]\n",
      " [55.39643904 54.55792889 41.56946541 56.11418099]]\n"
     ]
    }
   ],
   "source": [
    "# 正規分布に従う乱数を出力するには、numpy.random.normal(平均, 分散, 出力する件数)を用います。\n",
    "# 引数を省略した場合、平均=0.0, 分散=1.0, 出力する件数= 1 件 で出力されます。\n",
    "# 標準正規乱数 (平均:0.0, 分散:1.0) に従う乱数を 1 件出力\n",
    "print(np.random.normal())\n",
    " \n",
    "# 平均:50, 分散:10 の正規分布に従う乱数を 1 件出力\n",
    "print(np.random.normal(50, 10))\n",
    " \n",
    "# 平均:50, 分散:10 の正規分布に従う乱数を 10 件出力\n",
    "print(np.random.normal(50, 10, 10))\n",
    "\n",
    "# 平均:50, 分散:10 の正規分布に従う乱数を 3  x 4 の行列で出力する\n",
    "print(np.random.normal(50, 10, (3,4)))"
   ]
  },
  {
   "cell_type": "code",
   "execution_count": 8,
   "metadata": {},
   "outputs": [
    {
     "name": "stdout",
     "output_type": "stream",
     "text": [
      "4\n",
      "13\n",
      "[32 37 12 53 16 26 19 31 26 32]\n"
     ]
    }
   ],
   "source": [
    "# 特定の区間の乱数を出力するには、\n",
    "# numpy.random.randint(下限[, 上限,[, 出力する件数]]) を用います。\n",
    "\n",
    "# 0-10 の間の整数を 1 件出力する\n",
    "print(np.random.randint(10))\n",
    " \n",
    "# 10-15 の間の整数を 1 件出力する\n",
    "print(np.random.randint(10, 15))\n",
    " \n",
    "# 1-100 の間の整数を 10 件出力する\n",
    "print(np.random.randint(1, 100, 10))"
   ]
  },
  {
   "cell_type": "code",
   "execution_count": 9,
   "metadata": {
    "scrolled": true
   },
   "outputs": [
    {
     "name": "stdout",
     "output_type": "stream",
     "text": [
      "['E', 'B', 'D', 'A', 'C']\n"
     ]
    }
   ],
   "source": [
    "# 配列の順番をランダムに並び替えるには、\n",
    "# numpy.random.shuffle(シャッフル対象の配列) を用います。\n",
    "arr1 = ['A', 'B', 'C', 'D', 'E']\n",
    "np.random.shuffle(arr1)\n",
    "print(arr1)\n"
   ]
  },
  {
   "cell_type": "code",
   "execution_count": 11,
   "metadata": {},
   "outputs": [
    {
     "name": "stdout",
     "output_type": "stream",
     "text": [
      "0.8588892672930397\n",
      "0.8588892672930397\n"
     ]
    }
   ],
   "source": [
    "# numpy.random.seed(seed=シードに用いる値) をシード (種) を指定することで、\n",
    "# 発生する乱数をあらかじめ固定することが可能です。\n",
    "# 乱数を用いる分析や処理で、再現性が必要な場合などに用いられます。\n",
    "\n",
    "# シードを 32 に設定して乱数を出力\n",
    "np.random.seed(seed=32)\n",
    "print(np.random.rand())\n",
    "\n",
    "# シードを 32 に設定して乱数を出力 (同じ乱数が出力されます)\n",
    "np.random.seed(seed=32)\n",
    "print(np.random.rand())"
   ]
  }
 ],
 "metadata": {
  "kernelspec": {
   "display_name": "Python 3",
   "language": "python",
   "name": "python3"
  },
  "language_info": {
   "codemirror_mode": {
    "name": "ipython",
    "version": 3
   },
   "file_extension": ".py",
   "mimetype": "text/x-python",
   "name": "python",
   "nbconvert_exporter": "python",
   "pygments_lexer": "ipython3",
   "version": "3.6.5"
  }
 },
 "nbformat": 4,
 "nbformat_minor": 2
}

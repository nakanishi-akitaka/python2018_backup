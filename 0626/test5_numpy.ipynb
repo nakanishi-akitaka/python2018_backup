{
 "cells": [
  {
   "cell_type": "code",
   "execution_count": 2,
   "metadata": {},
   "outputs": [
    {
     "name": "stdout",
     "output_type": "stream",
     "text": [
      "15692.928894335748\n"
     ]
    }
   ],
   "source": [
    "# https://pythondatascience.plavox.info/numpy/金融・財務系の計算\n",
    "'''\n",
    "将来価値 (Future Value)\n",
    "\n",
    "numpy.fv() は、ローンや投資の将来価値を求めます。\n",
    "Excel には、FV 関数として実装されています。\n",
    "\n",
    "使い方\n",
    "numpy.fv(rate, nper, pmt, pv, when='end')\n",
    "\n",
    "引数\n",
    "rate (必須): 利率\n",
    "nper (必須): 複利計算期間数 (支払回数)\n",
    "pmt (必須): 毎回の支払額\n",
    "pv (必須): 現在価値 (返済の場合: 借入金額, 貯蓄の場合: 積立済金額)\n",
    "when: 支払期日、いつ支払いが行われるか。 (end/0: 各期の期末, start/1: 各期の機種)\n",
    "\n",
    "利用例\n",
    "年利 5% で 10 年間、毎月 100 ドル支払い、現在価値＝100 ドルにおける将来価値。\n",
    "'''\n",
    "import numpy as np\n",
    "print(np.fv(0.05/12, 10*12, -100, -100))"
   ]
  },
  {
   "cell_type": "markdown",
   "metadata": {},
   "source": [
    "# 現在価値 (Present Value)\n",
    "`numpy.pv()`は、ローンや投資の現在価値を求めます。\n",
    "Excel には、PV 関数として実装されています。\n",
    "\n",
    "## 使い方\n",
    "Python\n",
    "> numpy.pv(rate, nper, pmt, fv=0.0, when='end')\n",
    "\n",
    "## 引数\n",
    "* rate (必須): 利率\n",
    "* nper (必須): 複利計算期間数 (支払回数)\n",
    "* pmt (必須): 毎回の支払額\n",
    "* fv : 将来価値 (返済の場合: 0, 貯蓄の場合: 積立目標額)\n",
    "* when: 支払期日、いつ支払いが行われるか。 (end/0: 各期の期末, start/1: 各期の機種)\n",
    "\n",
    "## 利用例\n",
    "年利 5% で 10 年間、毎月 100 ドル支払い、15692.93 ドル積み立て目標での現在価値。"
   ]
  },
  {
   "cell_type": "code",
   "execution_count": 4,
   "metadata": {},
   "outputs": [
    {
     "name": "stdout",
     "output_type": "stream",
     "text": [
      "-100.00067131625819\n"
     ]
    }
   ],
   "source": [
    "print(np.pv(0.05/12, 10*12, -100, 15692.93))"
   ]
  },
  {
   "cell_type": "markdown",
   "metadata": {},
   "source": [
    "# 正味現在価値 (純現在価値, NPV: Net Present Value)\n",
    "`np.npv()` にて、正味現在価値を算出します。\n",
    "Excel には、NPV 関数として実装されています。\n",
    "\n",
    "## 使い方\n",
    "> numpy.npv(rate, values)\n",
    "\n",
    "## 引数\n",
    "* rate (必須): 割引率\n",
    "* values (必須): 一連のキャッシュフロー額\n",
    "\n",
    "## 利用例\n",
    "割引率 28.1% に対して、100 万円の投資と毎年、39, 59, 55, 20 万円の収益が得られた場合の正味現在価値"
   ]
  },
  {
   "cell_type": "code",
   "execution_count": 5,
   "metadata": {
    "scrolled": true
   },
   "outputs": [
    {
     "name": "stdout",
     "output_type": "stream",
     "text": [
      "-0.00847859163845488\n"
     ]
    }
   ],
   "source": [
    "print(np.npv(0.281,[-100, 39, 59, 55, 20]))"
   ]
  },
  {
   "cell_type": "code",
   "execution_count": 6,
   "metadata": {},
   "outputs": [
    {
     "name": "stdout",
     "output_type": "stream",
     "text": [
      "[62373.86544012 62874.69006898 63379.53601843 63888.43557724]\n"
     ]
    }
   ],
   "source": [
    "'''\n",
    "利息を考慮したローンの月々の支払額 (元金部分のみ) :PPMT\n",
    "np.ppmt() にて、一定利率のローンの元金部分のみを求めます。元利均等返済ですので、上記の PMT と合わせて、PMT = PPMT + IMPT となります。\n",
    "Excel には、PPMT 関数として実装されています。\n",
    "\n",
    "使い方\n",
    "\n",
    "Python\n",
    "1\n",
    "numpy.ppmt(rate, per, nper, pv, fv=0, when='end')\n",
    "引数\n",
    "\n",
    "rate (必須): 利率\n",
    "nper (必須): 複利計算期間数 (支払回数)\n",
    "per (必須): 複利計算期間数 (支払回数)\n",
    "pv (必須): 現在価値 (返済の場合: 借入金額, 貯蓄の場合: 積立済金額)\n",
    "fv : 将来価値 (返済の場合: 0, 貯蓄の場合: 積立目標額)\n",
    "when: 支払期日、いつ支払いが行われるか。 (end/0: 各期の期末, start/1: 各期の機種)\n",
    "使用例\n",
    "年利 0.8% の利率で 35 年間、3000 万円のローンを支払うのに必要な毎月の費用の元本部分 (12, 24, 36, 48 か月目)\n",
    "'''\n",
    "print(np.ppmt(0.008/12, [12, 24, 36, 48] , 12*35, -3000*10000))"
   ]
  },
  {
   "cell_type": "code",
   "execution_count": 7,
   "metadata": {},
   "outputs": [
    {
     "name": "stdout",
     "output_type": "stream",
     "text": [
      "[19544.41601353 19043.59138466 18538.74543522 18029.8458764 ]\n"
     ]
    }
   ],
   "source": [
    "'''\n",
    "利子を考慮したローンの月々の支払額 (利息部分のみ): IPMT\n",
    "np.ipmt() にて、一定利率のローンの定期支払額の利息部分のみを求めます。\n",
    "Excel には、IPMT 関数として実装されています。\n",
    "\n",
    "使い方\n",
    "\n",
    "Python\n",
    "1\n",
    "numpy.ipmt(rate, per, nper, pv, fv=0, when='end')\n",
    "引数\n",
    "\n",
    "rate (必須): 利率\n",
    "nper (必須): 複利計算期間数 (支払回数)\n",
    "pv (必須): 現在価値 (返済の場合: 借入金額, 貯蓄の場合: 積立済金額)\n",
    "fv : 将来価値 (返済の場合: 0, 貯蓄の場合: 積立目標額)\n",
    "when: 支払期日、いつ支払いが行われるか。 (end/0: 各期の期末, start/1: 各期の機種)\n",
    "使用例\n",
    "年利 0.8% の利率で 35 年間、3000 万円のローンを支払うのに必要な毎月の費用の利息部分 (12, 24, 36, 48 か月目)\n",
    "'''\n",
    "print(np.ipmt(0.008/12, [12, 24, 36, 48] , 12*35, -3000*10000))"
   ]
  },
  {
   "cell_type": "code",
   "execution_count": 8,
   "metadata": {},
   "outputs": [
    {
     "name": "stdout",
     "output_type": "stream",
     "text": [
      "0.28095\n"
     ]
    }
   ],
   "source": [
    "'''\n",
    "内部利益率 (IRR: Internal Rate of Return)\n",
    "一連の定期的なキャッシュフローに対する内部収益率を返す関数として、np.irr() があります。現在価値を0とし、定期的なキャッシュフローの複利を平均化した利益率を返します。\n",
    "Excel には、IRR 関数として実装されています。\n",
    "\n",
    "使い方\n",
    "\n",
    "Python\n",
    "1\n",
    "numpy.irr(values)\n",
    "引数\n",
    "\n",
    "values (必須): 毎回のキャッシュフローの額。正 (引き出しの場合) または負 (積み立ての場合) の 1 つ以上の値を指定します。\n",
    "使用例\n",
    "ある人が 100 万円投資し、1 年後の収益が 39 万円、2 年後の収益が 59万円、3 年後の収益が 55万円、4 年後の収益が 20万円の収益があった場合の 4 年後の内部利益率\n",
    "'''\n",
    "print(round(np.irr([-100, 39, 59, 55, 20]), 5))"
   ]
  },
  {
   "cell_type": "code",
   "execution_count": null,
   "metadata": {},
   "outputs": [],
   "source": []
  }
 ],
 "metadata": {
  "kernelspec": {
   "display_name": "Python 3",
   "language": "python",
   "name": "python3"
  },
  "language_info": {
   "codemirror_mode": {
    "name": "ipython",
    "version": 3
   },
   "file_extension": ".py",
   "mimetype": "text/x-python",
   "name": "python",
   "nbconvert_exporter": "python",
   "pygments_lexer": "ipython3",
   "version": "3.6.5"
  }
 },
 "nbformat": 4,
 "nbformat_minor": 2
}

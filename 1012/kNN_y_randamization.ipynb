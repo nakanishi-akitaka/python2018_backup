{
 "cells": [
  {
   "cell_type": "code",
   "execution_count": 1,
   "metadata": {},
   "outputs": [
    {
     "name": "stdout",
     "output_type": "stream",
     "text": [
      "# modeling and prediction\n",
      "\n",
      "Best parameters set found on development set:\n",
      "{'n_neighbors': 4}\n",
      "C:  RMSE, MAE, R^2 = 16.661, 12.220, 0.973\n",
      "CV: RMSE, MAE, R^2 = 22.947, 16.816, 0.949\n",
      "P:  RMSE, MAE, R^2 = 26.216, 17.881, 0.943\n",
      "\n",
      "# y-randomization\n",
      "In 10 iterations, average +/- standard deviation\n",
      "RMSE: 96.965 (+/-1.290)\n",
      "MAE: 77.140 (+/-1.149)\n",
      "R^2: 0.098 (+/-0.024)\n"
     ]
    }
   ],
   "source": [
    "# -*- coding: utf-8 -*- \n",
    "\"\"\"\n",
    "Example of y-randammization\n",
    "\n",
    "Created on Fri Oct  12 16:00:00 2018\n",
    "@author: Akitaka\n",
    "\"\"\"\n",
    "# Demonstration of y-randomization\n",
    "%matplotlib inline\n",
    "\n",
    "import matplotlib.pyplot as plt\n",
    "import pandas as pd\n",
    "import numpy as np\n",
    "from time                    import time\n",
    "from sklearn.datasets        import make_regression\n",
    "from sklearn.model_selection import GridSearchCV, ShuffleSplit, KFold\n",
    "from sklearn.model_selection import train_test_split\n",
    "from sklearn.preprocessing   import StandardScaler, MinMaxScaler\n",
    "from sklearn.neighbors       import KNeighborsRegressor\n",
    "from my_library              import print_gscv_score_rgr, dcv_rgr, ad_knn\n",
    "from my_library              import y_randamization_rgr\n",
    "from sklearn.metrics         import mean_absolute_error\n",
    "from sklearn.metrics         import mean_squared_error\n",
    "from sklearn.metrics         import r2_score\n",
    "\n",
    "start = time()\n",
    "\n",
    "# settings\n",
    "scaler = MinMaxScaler()\n",
    "scaler = StandardScaler()\n",
    "range_k = np.arange(  3, 11, dtype=int)\n",
    "param_grid = [{'n_neighbors':range_k}]\n",
    "cv = ShuffleSplit(n_splits=5, test_size=0.2)\n",
    "cv = KFold(n_splits=5, shuffle=True)\n",
    "\n",
    "# generate sample dataset\n",
    "X, y = make_regression(n_samples=1000, n_features=4, n_informative=4)\n",
    "X_train, X_test, y_train, y_test = train_test_split(X, y, test_size=0.2)\n",
    "\n",
    "# autoscaling\n",
    "X_train = scaler.fit_transform(X_train)\n",
    "X_test = scaler.transform(X_test)\n",
    "\n",
    "print(\"# modeling and prediction\")\n",
    "model = KNeighborsRegressor()\n",
    "gscv = GridSearchCV(model, param_grid, cv=cv)\n",
    "gscv.fit(X_train, y_train)\n",
    "print_gscv_score_rgr(gscv, X_train, X_test, y_train, y_test, cv)\n",
    "\n",
    "niter=10\n",
    "y_randamization_rgr(X_train, y_train, model, param_grid, niter)"
   ]
  },
  {
   "cell_type": "code",
   "execution_count": null,
   "metadata": {},
   "outputs": [],
   "source": []
  }
 ],
 "metadata": {
  "kernelspec": {
   "display_name": "Python 3",
   "language": "python",
   "name": "python3"
  },
  "language_info": {
   "codemirror_mode": {
    "name": "ipython",
    "version": 3
   },
   "file_extension": ".py",
   "mimetype": "text/x-python",
   "name": "python",
   "nbconvert_exporter": "python",
   "pygments_lexer": "ipython3",
   "version": "3.6.5"
  }
 },
 "nbformat": 4,
 "nbformat_minor": 2
}

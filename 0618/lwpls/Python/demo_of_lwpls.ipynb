{
 "cells": [
  {
   "cell_type": "markdown",
   "metadata": {},
   "source": [
    "# Demonstration of Locally-Weighted Partial Least Squares (LWPLS)\n",
    "Hiromasa Kaneko"
   ]
  },
  {
   "cell_type": "code",
   "execution_count": null,
   "metadata": {
    "collapsed": true
   },
   "outputs": [],
   "source": [
    "import matplotlib.figure as figure\n",
    "import matplotlib.pyplot as plt\n",
    "import numpy as np\n",
    "\n",
    "from lwpls import lwpls"
   ]
  },
  {
   "cell_type": "code",
   "execution_count": null,
   "metadata": {
    "collapsed": true
   },
   "outputs": [],
   "source": [
    "# hyperparameters of LWPLS\n",
    "component_number = 2\n",
    "lambda_in_similarity = 2 ** -2"
   ]
  },
  {
   "cell_type": "code",
   "execution_count": null,
   "metadata": {
    "collapsed": true
   },
   "outputs": [],
   "source": [
    "sample_number = 100\n",
    "np.random.seed(10)\n",
    "x = 5 * np.random.rand(sample_number, 2)\n",
    "y = 3 * x[:, 0] ** 2 + 10 * np.log(x[:, 1]) + np.random.randn(sample_number)\n",
    "y = y + 0.1 * y.std(ddof=1) * np.random.randn(sample_number)\n",
    "np.random.seed()\n",
    "x_train = x[0:70, :]\n",
    "y_train = y[0:70]\n",
    "x_test = x[70:, :]\n",
    "y_test = y[70:]"
   ]
  },
  {
   "cell_type": "code",
   "execution_count": null,
   "metadata": {
    "collapsed": true
   },
   "outputs": [],
   "source": [
    "autoscaled_x_train = (x_train - x_train.mean(axis=0)) / x_train.std(axis=0, ddof=1)\n",
    "autoscaled_y_train = (y_train - y_train.mean()) / y_train.std(ddof=1)\n",
    "autoscaled_x_test = (x_test - x_train.mean(axis=0)) / x_train.std(axis=0, ddof=1)"
   ]
  },
  {
   "cell_type": "code",
   "execution_count": null,
   "metadata": {
    "collapsed": true
   },
   "outputs": [],
   "source": [
    "estimated_y_test = lwpls(autoscaled_x_train, autoscaled_y_train, autoscaled_x_test, component_number,\n",
    "                         lambda_in_similarity)\n",
    "estimated_y_test = estimated_y_test[:, component_number - 1] * y_train.std(ddof=1) + y_train.mean()"
   ]
  },
  {
   "cell_type": "code",
   "execution_count": null,
   "metadata": {},
   "outputs": [],
   "source": [
    "# r2p, RMSEp, MAEp\n",
    "print(\"r2p: {0}\".format(float(1 - sum((y_test - estimated_y_test) ** 2) / sum((y_test - y_test.mean()) ** 2))))\n",
    "print(\"RMSEp: {0}\".format(float((sum((y_test - estimated_y_test) ** 2) / len(y_test)) ** (1 / 2))))\n",
    "print(\"MAEp: {0}\".format(float(sum(abs(y_test - estimated_y_test)) / len(y_test))))"
   ]
  },
  {
   "cell_type": "code",
   "execution_count": null,
   "metadata": {},
   "outputs": [],
   "source": [
    "# yy-plot\n",
    "plt.rcParams[\"font.size\"] = 18\n",
    "plt.figure(figsize=figure.figaspect(1))\n",
    "plt.scatter(y_test, estimated_y_test)\n",
    "max_y = np.max(np.array([np.array(y_test), estimated_y_test]))\n",
    "min_y = np.min(np.array([np.array(y_test), estimated_y_test]))\n",
    "plt.plot([min_y - 0.05 * (max_y - min_y), max_y + 0.05 * (max_y - min_y)],\n",
    "         [min_y - 0.05 * (max_y - min_y), max_y + 0.05 * (max_y - min_y)], 'k-')\n",
    "plt.ylim(min_y - 0.05 * (max_y - min_y), max_y + 0.05 * (max_y - min_y))\n",
    "plt.xlim(min_y - 0.05 * (max_y - min_y), max_y + 0.05 * (max_y - min_y))\n",
    "plt.xlabel(\"simulated y\")\n",
    "plt.ylabel(\"estimated y\")\n",
    "plt.show()"
   ]
  }
 ],
 "metadata": {
  "kernelspec": {
   "display_name": "Python 3",
   "language": "python",
   "name": "python3"
  },
  "language_info": {
   "codemirror_mode": {
    "name": "ipython",
    "version": 3
   },
   "file_extension": ".py",
   "mimetype": "text/x-python",
   "name": "python",
   "nbconvert_exporter": "python",
   "pygments_lexer": "ipython3",
   "version": "3.6.3"
  }
 },
 "nbformat": 4,
 "nbformat_minor": 2
}

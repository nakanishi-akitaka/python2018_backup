{
 "cells": [
  {
   "cell_type": "code",
   "execution_count": null,
   "metadata": {},
   "outputs": [],
   "source": [
    "#!/usr/bin/env python\n",
    "# -*- coding: utf-8 -*-\n",
    "\n",
    "%matplotlib inline\n",
    "from matplotlib import pyplot as plt\n",
    "import numpy as np\n",
    "from sklearn import datasets\n",
    "\n",
    "from sklearn.decomposition import PCA\n",
    "from sklearn.manifold import MDS\n",
    "from sklearn.manifold import LocallyLinearEmbedding\n",
    "from sklearn.manifold import SpectralEmbedding\n",
    "from sklearn.manifold import Isomap\n",
    "from sklearn.manifold import TSNE\n",
    "\n",
    "def main():\n",
    "    dataset = datasets.load_digits()\n",
    "\n",
    "    X = dataset.data\n",
    "    y = dataset.target\n",
    "\n",
    "    plt.figure(figsize=(12, 8))\n",
    "\n",
    "    # 主な多様体学習アルゴリズム (と主成分分析)\n",
    "    manifolders = {\n",
    "        'PCA': PCA(),\n",
    "        'MDS': MDS(),\n",
    "        'Isomap': Isomap(),\n",
    "        'LLE': LocallyLinearEmbedding(),\n",
    "        'Laplacian Eigenmaps': SpectralEmbedding(),\n",
    "        't-SNE': TSNE(),\n",
    "    }\n",
    "    for i, (name, manifolder) in enumerate(manifolders.items()):\n",
    "        plt.subplot(2, 3, i + 1)\n",
    "\n",
    "        # 多様体学習アルゴリズムを使って教師データを 2 次元に縮約する\n",
    "        X_transformed = manifolder.fit_transform(X)\n",
    "\n",
    "        # 縮約した結果を二次元の散布図にプロットする\n",
    "        for label in np.unique(y):\n",
    "            plt.title(name)\n",
    "            plt.scatter(X_transformed[y == label, 0], X_transformed[y == label, 1])\n",
    "\n",
    "    plt.show()\n",
    "\n",
    "if __name__ == '__main__':\n",
    "    main()"
   ]
  },
  {
   "cell_type": "code",
   "execution_count": null,
   "metadata": {},
   "outputs": [],
   "source": []
  }
 ],
 "metadata": {
  "kernelspec": {
   "display_name": "Python 3",
   "language": "python",
   "name": "python3"
  },
  "language_info": {
   "codemirror_mode": {
    "name": "ipython",
    "version": 3
   },
   "file_extension": ".py",
   "mimetype": "text/x-python",
   "name": "python",
   "nbconvert_exporter": "python",
   "pygments_lexer": "ipython3",
   "version": "3.6.5"
  }
 },
 "nbformat": 4,
 "nbformat_minor": 2
}

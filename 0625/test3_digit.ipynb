{
 "cells": [
  {
   "cell_type": "code",
   "execution_count": 4,
   "metadata": {},
   "outputs": [
    {
     "data": {
      "image/png": "[encoded data removed]",
      "text/plain": [
       "<Figure size 432x288 with 25 Axes>"
      ]
     },
     "metadata": {},
     "output_type": "display_data"
    }
   ],
   "source": [
    "#!/usr/bin/env python\n",
    "# -*- coding: utf-8 -*-\n",
    "\n",
    "%matplotlib inline\n",
    "from matplotlib import pyplot as plt\n",
    "from matplotlib import cm\n",
    "import numpy as np\n",
    "from numpy import random\n",
    "from sklearn import datasets\n",
    "\n",
    "\n",
    "def main():\n",
    "    dataset = datasets.load_digits()\n",
    "    X = dataset.data\n",
    "    y = dataset.target\n",
    "\n",
    "    # データの中から 25 点を無作為に選び出す\n",
    "    sample_indexes = random.choice(np.arange(len(X)), 25, replace=False)\n",
    "\n",
    "    # 選んだデータとラベルを matplotlib で表示する\n",
    "    samples = np.array(list(zip(X, y)))[sample_indexes]\n",
    "    for index, (data, label) in enumerate(samples):\n",
    "        # 画像データを 5x5 の格子状に配置する\n",
    "        plt.subplot(5, 5, index + 1)\n",
    "        # 軸に関する表示はいらない\n",
    "        plt.axis('off')\n",
    "        # データを 8x8 のグレースケール画像として表示する\n",
    "        plt.imshow(data.reshape(8, 8), cmap=cm.gray_r, interpolation='nearest')\n",
    "        # 画像データのタイトルに正解ラベルを表示する\n",
    "        plt.title(label, color='red')\n",
    "    # グラフを表示する\n",
    "    plt.show()\n",
    "\n",
    "\n",
    "if __name__ == '__main__':\n",
    "    main()"
   ]
  },
  {
   "cell_type": "code",
   "execution_count": null,
   "metadata": {},
   "outputs": [],
   "source": []
  }
 ],
 "metadata": {
  "kernelspec": {
   "display_name": "Python 3",
   "language": "python",
   "name": "python3"
  },
  "language_info": {
   "codemirror_mode": {
    "name": "ipython",
    "version": 3
   },
   "file_extension": ".py",
   "mimetype": "text/x-python",
   "name": "python",
   "nbconvert_exporter": "python",
   "pygments_lexer": "ipython3",
   "version": "3.6.5"
  }
 },
 "nbformat": 4,
 "nbformat_minor": 2
}

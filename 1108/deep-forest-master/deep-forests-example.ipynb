{
 "cells": [
  {
   "cell_type": "code",
   "execution_count": 1,
   "metadata": {
    "collapsed": false,
    "deletable": true,
    "editable": true
   },
   "outputs": [],
   "source": [
    "#\n",
    "# Inpired by https://arxiv.org/abs/1702.08835 and https://github.com/STO-OTZ/my_gcForest/\n",
    "#\n",
    "import numpy as np\n",
    "import random\n",
    "import uuid\n",
    "\n",
    "from sklearn.datasets import fetch_mldata\n",
    "from sklearn.ensemble import ExtraTreesClassifier, RandomForestClassifier\n",
    "from sklearn.metrics import accuracy_score, f1_score\n",
    "from sklearn.model_selection import train_test_split\n",
    "\n",
    "from deep_forest import MGCForest"
   ]
  },
  {
   "cell_type": "markdown",
   "metadata": {
    "collapsed": true,
    "deletable": true,
    "editable": true
   },
   "source": [
    "# The MNIST dataset"
   ]
  },
  {
   "cell_type": "code",
   "execution_count": 2,
   "metadata": {
    "collapsed": false,
    "deletable": true,
    "editable": true
   },
   "outputs": [
    {
     "name": "stdout",
     "output_type": "stream",
     "text": [
      "Data: (70000, 784), target: (70000,)\n"
     ]
    }
   ],
   "source": [
    "mnist = fetch_mldata('MNIST original', data_home='~/scikit-learn-datasets')\n",
    "mnist.data.shape\n",
    "\n",
    "print('Data: {}, target: {}'.format(mnist.data.shape, mnist.target.shape))"
   ]
  },
  {
   "cell_type": "code",
   "execution_count": 3,
   "metadata": {
    "collapsed": false,
    "deletable": true,
    "editable": true
   },
   "outputs": [
    {
     "name": "stdout",
     "output_type": "stream",
     "text": [
      "X_train: (2000, 28, 28) uint8\n",
      "y_train: (2000,) float64\n",
      "X_test: (2000, 28, 28)\n",
      "y_test: (2000,)\n"
     ]
    }
   ],
   "source": [
    "X_train, X_test, y_train, y_test = train_test_split(\n",
    "    mnist.data,\n",
    "    mnist.target,\n",
    "    test_size=0.2,\n",
    "    random_state=42,\n",
    ")\n",
    "\n",
    "X_train = X_train.reshape((len(X_train), 28, 28))\n",
    "X_test = X_test.reshape((len(X_test), 28, 28))\n",
    "\n",
    "#\n",
    "# Limit the size of the dataset\n",
    "#\n",
    "X_train = X_train[:2000]\n",
    "y_train = y_train[:2000]\n",
    "X_test = X_test[:2000]\n",
    "y_test = y_test[:2000]\n",
    "\n",
    "print('X_train:', X_train.shape, X_train.dtype)\n",
    "print('y_train:', y_train.shape, y_train.dtype)\n",
    "print('X_test:', X_test.shape)\n",
    "print('y_test:', y_test.shape)"
   ]
  },
  {
   "cell_type": "markdown",
   "metadata": {
    "deletable": true,
    "editable": true
   },
   "source": [
    "## Using the MGCForest\n",
    "\n",
    "Creates a simple *MGCForest* with 2 random forests for the *Multi-Grained-Scanning* process and 2 other random forests for the *Cascade* process."
   ]
  },
  {
   "cell_type": "code",
   "execution_count": 4,
   "metadata": {
    "collapsed": false,
    "deletable": true,
    "editable": true,
    "scrolled": true
   },
   "outputs": [
    {
     "name": "stderr",
     "output_type": "stream",
     "text": [
      "<MultiGrainedScanner stride_ratio=0.25> - Scanning and fitting for X ((2000, 28, 28)) and y ((2000,)) started\n",
      "<MultiGrainedScanner stride_ratio=0.25> - Scanning turned X ((2000, 28, 28)) into sliced_X ((22, 2000, 1078)). 484 new instances were added per sample\n",
      "<MultiGrainedScanner stride_ratio=0.25> - Finished fitting X ((2000, 28, 28)) and got predictions with shape (44, 2000, 10)\n",
      "<MultiGrainedScanner stride_ratio=0.1111111111111111> - Scanning and fitting for X ((2000, 28, 28)) and y ((2000,)) started\n",
      "<MultiGrainedScanner stride_ratio=0.1111111111111111> - Scanning turned X ((2000, 28, 28)) into sliced_X ((26, 2000, 234)). 676 new instances were added per sample\n",
      "<MultiGrainedScanner stride_ratio=0.1111111111111111> - Finished fitting X ((2000, 28, 28)) and got predictions with shape (52, 2000, 10)\n",
      "<MultiGrainedScanner stride_ratio=0.0625> - Scanning and fitting for X ((2000, 28, 28)) and y ((2000,)) started\n",
      "<MultiGrainedScanner stride_ratio=0.0625> - Scanning turned X ((2000, 28, 28)) into sliced_X ((28, 2000, 28)). 784 new instances were added per sample\n",
      "<MultiGrainedScanner stride_ratio=0.0625> - Finished fitting X ((2000, 28, 28)) and got predictions with shape (56, 2000, 10)\n",
      "<CascadeForest forests=4> - Cascade fitting for X ((2000, 1520)) and y ((2000,)) started\n",
      "<CascadeForest forests=4> - Level #1:: X with shape: (2000, 1520)\n",
      "<CascadeForest forests=4> - Level 1:: got all predictions\n",
      "<CascadeForest forests=4> - Level 1:: got accuracy 0.9295\n",
      "<CascadeForest forests=4> - Level #2:: X with shape: (2000, 1560)\n",
      "<CascadeForest forests=4> - Level 2:: got all predictions\n",
      "<CascadeForest forests=4> - Level 2:: got accuracy 0.931\n",
      "<CascadeForest forests=4> - Level #3:: X with shape: (2000, 1600)\n",
      "<CascadeForest forests=4> - Level 3:: got all predictions\n",
      "<CascadeForest forests=4> - Level 3:: got accuracy 0.9285\n"
     ]
    }
   ],
   "source": [
    "mgc_forest = MGCForest(\n",
    "    estimators_config={\n",
    "        'mgs': [{\n",
    "            'estimator_class': ExtraTreesClassifier,\n",
    "            'estimator_params': {\n",
    "                'n_estimators': 30,\n",
    "                'min_samples_split': 21,\n",
    "                'n_jobs': -1,\n",
    "            }\n",
    "        }, {\n",
    "            'estimator_class': RandomForestClassifier,\n",
    "            'estimator_params': {\n",
    "                'n_estimators': 30,\n",
    "                'min_samples_split': 21,\n",
    "                'n_jobs': -1,\n",
    "            }\n",
    "        }],\n",
    "        'cascade': [{\n",
    "            'estimator_class': ExtraTreesClassifier,\n",
    "            'estimator_params': {\n",
    "                'n_estimators': 1000,\n",
    "                'min_samples_split': 11,\n",
    "                'max_features': 1,\n",
    "                'n_jobs': -1,\n",
    "            }\n",
    "        }, {\n",
    "            'estimator_class': ExtraTreesClassifier,\n",
    "            'estimator_params': {\n",
    "                'n_estimators': 1000,\n",
    "                'min_samples_split': 11,\n",
    "                'max_features': 'sqrt',\n",
    "                'n_jobs': -1,\n",
    "            }\n",
    "        }, {\n",
    "            'estimator_class': RandomForestClassifier,\n",
    "            'estimator_params': {\n",
    "                'n_estimators': 1000,\n",
    "                'min_samples_split': 11,\n",
    "                'max_features': 1,\n",
    "                'n_jobs': -1,\n",
    "            }\n",
    "        }, {\n",
    "            'estimator_class': RandomForestClassifier,\n",
    "            'estimator_params': {\n",
    "                'n_estimators': 1000,\n",
    "                'min_samples_split': 11,\n",
    "                'max_features': 'sqrt',\n",
    "                'n_jobs': -1,\n",
    "            }\n",
    "        }]\n",
    "    },\n",
    "    stride_ratios=[1.0 / 4, 1.0 / 9, 1.0 / 16],\n",
    ")\n",
    "\n",
    "mgc_forest.fit(X_train, y_train)"
   ]
  },
  {
   "cell_type": "code",
   "execution_count": 5,
   "metadata": {
    "collapsed": false,
    "deletable": true,
    "editable": true
   },
   "outputs": [
    {
     "name": "stderr",
     "output_type": "stream",
     "text": [
      "<MultiGrainedScanner stride_ratio=0.25> - Predicting X ((2000, 28, 28))\n",
      "<MultiGrainedScanner stride_ratio=0.25> - Scanning turned X ((2000, 28, 28)) into sliced_X ((22, 2000, 1078)). 484 new instances were added per sample\n",
      "<MultiGrainedScanner stride_ratio=0.1111111111111111> - Predicting X ((2000, 28, 28))\n",
      "<MultiGrainedScanner stride_ratio=0.1111111111111111> - Scanning turned X ((2000, 28, 28)) into sliced_X ((26, 2000, 234)). 676 new instances were added per sample\n",
      "<MultiGrainedScanner stride_ratio=0.0625> - Predicting X ((2000, 28, 28))\n",
      "<MultiGrainedScanner stride_ratio=0.0625> - Scanning turned X ((2000, 28, 28)) into sliced_X ((28, 2000, 28)). 784 new instances were added per sample\n",
      "<CascadeForest forests=4> - Shape of predictions: (4, 2000, 10) shape of X: (2000, 1520)\n",
      "<CascadeForest forests=4> - Shape of predictions: (4, 2000, 10) shape of X: (2000, 1560)\n"
     ]
    },
    {
     "name": "stdout",
     "output_type": "stream",
     "text": [
      "Prediction shape: (2000,)\n",
      "Accuracy: 0.9365 F1 score: 0.936298471966\n"
     ]
    }
   ],
   "source": [
    "y_pred = mgc_forest.predict(X_test)\n",
    "\n",
    "print('Prediction shape:', y_pred.shape)\n",
    "print(\n",
    "    'Accuracy:', accuracy_score(y_test, y_pred),\n",
    "    'F1 score:', f1_score(y_test, y_pred, average='weighted')\n",
    ")"
   ]
  }
 ],
 "metadata": {
  "kernelspec": {
   "display_name": "Python 3",
   "language": "python",
   "name": "python3"
  },
  "language_info": {
   "codemirror_mode": {
    "name": "ipython",
    "version": 3
   },
   "file_extension": ".py",
   "mimetype": "text/x-python",
   "name": "python",
   "nbconvert_exporter": "python",
   "pygments_lexer": "ipython3",
   "version": "3.6.0"
  }
 },
 "nbformat": 4,
 "nbformat_minor": 2
}
